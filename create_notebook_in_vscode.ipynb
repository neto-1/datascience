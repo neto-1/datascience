{
 "cells": [
  {
   "cell_type": "markdown",
   "id": "544502d5",
   "metadata": {},
   "source": [
    "# Install Jupyter Extension in VS Code\n",
    "To work with Jupyter notebooks in Visual Studio Code, you need to install the Jupyter extension. Open the Extensions view (Ctrl+Shift+X), search for \"Jupyter\", and click Install on the official extension by Microsoft."
   ]
  },
  {
   "cell_type": "markdown",
   "id": "57c855cb",
   "metadata": {},
   "source": [
    "# Create a New Jupyter Notebook File\n",
    "To create a new notebook, click on the File menu, select New File, and save it with a `.ipynb` extension (for example, `my_notebook.ipynb`). This will open the notebook interface in VS Code."
   ]
  },
  {
   "cell_type": "markdown",
   "id": "b0019195",
   "metadata": {},
   "source": [
    "# Select Python Interpreter\n",
    "After opening your notebook, select the appropriate Python interpreter for the kernel. Click on the kernel picker in the top right of the notebook and choose the Python environment you want to use."
   ]
  },
  {
   "cell_type": "markdown",
   "id": "58445148",
   "metadata": {},
   "source": [
    "# Add and Run a Code Cell\n",
    "To add a new code cell, click the + Code button. Enter your Python code in the cell and click the Run button (or press Shift+Enter) to execute it. Try running the following command:"
   ]
  },
  {
   "cell_type": "code",
   "execution_count": null,
   "id": "ca2490a3",
   "metadata": {},
   "outputs": [],
   "source": [
    "print('Hello, VS Code!')"
   ]
  },
  {
   "cell_type": "markdown",
   "id": "3e30d7dc",
   "metadata": {},
   "source": [
    "# Save and Reopen the Notebook\n",
    "To save your notebook, click the Save icon or press Ctrl+S. You can reopen your notebook anytime by double-clicking the `.ipynb` file in the Explorer view in VS Code."
   ]
  }
 ],
 "metadata": {
  "language_info": {
   "name": "python"
  }
 },
 "nbformat": 4,
 "nbformat_minor": 5
}
